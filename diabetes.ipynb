{
 "cells": [
  {
   "cell_type": "markdown",
   "metadata": {},
   "source": [
    "### A Study in Imputation: Predicting Diabetes from Medical Data with Various Imputation Strategies\n",
    "***\n",
    "\n",
    "Here our goal is to build a predictive model for diagnosing diabetes using the <a href=\"https://www.kaggle.com/mathchi/diabetes-data-set\">following diabetes dataset</a> from Kaggle.  We eventually settle on using a random forest classifier to implement our model.\n",
    "\n",
    "However, before we can do so, we must deal with the fact that this dataset has a large amount of missing data.  This is complicated by the fact that the missing data in this dataset is indicated by zeroes, which in some cases can be interpreted either as a missing value or as a genuine entry.  To circumvent these problems, we implement a number of simple imputation strategies to arrive at a model with predictive accuracy of about 90 percent, as well as discover a few counterintuitive facts about imputation by binning along the way."
   ]
  },
  {
   "cell_type": "markdown",
   "metadata": {},
   "source": [
    "Let's import the packages we'll be using."
   ]
  },
  {
   "cell_type": "code",
   "execution_count": 59,
   "metadata": {},
   "outputs": [],
   "source": [
    "import pandas as pd\n",
    "import scipy\n",
    "import sklearn\n",
    "import numpy as np\n",
    "import matplotlib.pyplot as plt\n",
    "import seaborn as sns\n",
    "import missingno as msno\n",
    "from scipy.stats import mannwhitneyu\n",
    "from sklearn.linear_model import LogisticRegression\n",
    "from sklearn.preprocessing import StandardScaler\n",
    "from sklearn.model_selection import cross_val_score, train_test_split\n",
    "from sklearn.ensemble import RandomForestClassifier\n",
    "from warnings import filterwarnings\n",
    "from sklearn.metrics import mean_squared_error, confusion_matrix\n",
    "\n",
    "filterwarnings(\"ignore\", category = DeprecationWarning) \n",
    "filterwarnings(\"ignore\", category = FutureWarning) \n",
    "filterwarnings(\"ignore\", category = UserWarning)\n",
    "\n",
    "plt.style.use('dark_background')"
   ]
  },
  {
   "cell_type": "markdown",
   "metadata": {},
   "source": [
    "Next we import our data into a dataframe.  We create a copy to preserve the original data."
   ]
  },
  {
   "cell_type": "code",
   "execution_count": 60,
   "metadata": {},
   "outputs": [],
   "source": [
    "data = pd.read_csv('diabetes.csv')\n",
    "df = data.copy()"
   ]
  },
  {
   "cell_type": "markdown",
   "metadata": {},
   "source": [
    "Let's explore our dataframe."
   ]
  },
  {
   "cell_type": "code",
   "execution_count": 61,
   "metadata": {},
   "outputs": [
    {
     "data": {
      "text/html": [
       "<div>\n",
       "<style scoped>\n",
       "    .dataframe tbody tr th:only-of-type {\n",
       "        vertical-align: middle;\n",
       "    }\n",
       "\n",
       "    .dataframe tbody tr th {\n",
       "        vertical-align: top;\n",
       "    }\n",
       "\n",
       "    .dataframe thead th {\n",
       "        text-align: right;\n",
       "    }\n",
       "</style>\n",
       "<table border=\"1\" class=\"dataframe\">\n",
       "  <thead>\n",
       "    <tr style=\"text-align: right;\">\n",
       "      <th></th>\n",
       "      <th>Pregnancies</th>\n",
       "      <th>Glucose</th>\n",
       "      <th>BloodPressure</th>\n",
       "      <th>SkinThickness</th>\n",
       "      <th>Insulin</th>\n",
       "      <th>BMI</th>\n",
       "      <th>DiabetesPedigreeFunction</th>\n",
       "      <th>Age</th>\n",
       "      <th>Outcome</th>\n",
       "    </tr>\n",
       "  </thead>\n",
       "  <tbody>\n",
       "    <tr>\n",
       "      <th>0</th>\n",
       "      <td>6</td>\n",
       "      <td>148</td>\n",
       "      <td>72</td>\n",
       "      <td>35</td>\n",
       "      <td>0</td>\n",
       "      <td>33.6</td>\n",
       "      <td>0.627</td>\n",
       "      <td>50</td>\n",
       "      <td>1</td>\n",
       "    </tr>\n",
       "    <tr>\n",
       "      <th>1</th>\n",
       "      <td>1</td>\n",
       "      <td>85</td>\n",
       "      <td>66</td>\n",
       "      <td>29</td>\n",
       "      <td>0</td>\n",
       "      <td>26.6</td>\n",
       "      <td>0.351</td>\n",
       "      <td>31</td>\n",
       "      <td>0</td>\n",
       "    </tr>\n",
       "    <tr>\n",
       "      <th>2</th>\n",
       "      <td>8</td>\n",
       "      <td>183</td>\n",
       "      <td>64</td>\n",
       "      <td>0</td>\n",
       "      <td>0</td>\n",
       "      <td>23.3</td>\n",
       "      <td>0.672</td>\n",
       "      <td>32</td>\n",
       "      <td>1</td>\n",
       "    </tr>\n",
       "    <tr>\n",
       "      <th>3</th>\n",
       "      <td>1</td>\n",
       "      <td>89</td>\n",
       "      <td>66</td>\n",
       "      <td>23</td>\n",
       "      <td>94</td>\n",
       "      <td>28.1</td>\n",
       "      <td>0.167</td>\n",
       "      <td>21</td>\n",
       "      <td>0</td>\n",
       "    </tr>\n",
       "    <tr>\n",
       "      <th>4</th>\n",
       "      <td>0</td>\n",
       "      <td>137</td>\n",
       "      <td>40</td>\n",
       "      <td>35</td>\n",
       "      <td>168</td>\n",
       "      <td>43.1</td>\n",
       "      <td>2.288</td>\n",
       "      <td>33</td>\n",
       "      <td>1</td>\n",
       "    </tr>\n",
       "    <tr>\n",
       "      <th>5</th>\n",
       "      <td>5</td>\n",
       "      <td>116</td>\n",
       "      <td>74</td>\n",
       "      <td>0</td>\n",
       "      <td>0</td>\n",
       "      <td>25.6</td>\n",
       "      <td>0.201</td>\n",
       "      <td>30</td>\n",
       "      <td>0</td>\n",
       "    </tr>\n",
       "    <tr>\n",
       "      <th>6</th>\n",
       "      <td>3</td>\n",
       "      <td>78</td>\n",
       "      <td>50</td>\n",
       "      <td>32</td>\n",
       "      <td>88</td>\n",
       "      <td>31.0</td>\n",
       "      <td>0.248</td>\n",
       "      <td>26</td>\n",
       "      <td>1</td>\n",
       "    </tr>\n",
       "    <tr>\n",
       "      <th>7</th>\n",
       "      <td>10</td>\n",
       "      <td>115</td>\n",
       "      <td>0</td>\n",
       "      <td>0</td>\n",
       "      <td>0</td>\n",
       "      <td>35.3</td>\n",
       "      <td>0.134</td>\n",
       "      <td>29</td>\n",
       "      <td>0</td>\n",
       "    </tr>\n",
       "    <tr>\n",
       "      <th>8</th>\n",
       "      <td>2</td>\n",
       "      <td>197</td>\n",
       "      <td>70</td>\n",
       "      <td>45</td>\n",
       "      <td>543</td>\n",
       "      <td>30.5</td>\n",
       "      <td>0.158</td>\n",
       "      <td>53</td>\n",
       "      <td>1</td>\n",
       "    </tr>\n",
       "    <tr>\n",
       "      <th>9</th>\n",
       "      <td>8</td>\n",
       "      <td>125</td>\n",
       "      <td>96</td>\n",
       "      <td>0</td>\n",
       "      <td>0</td>\n",
       "      <td>0.0</td>\n",
       "      <td>0.232</td>\n",
       "      <td>54</td>\n",
       "      <td>1</td>\n",
       "    </tr>\n",
       "    <tr>\n",
       "      <th>10</th>\n",
       "      <td>4</td>\n",
       "      <td>110</td>\n",
       "      <td>92</td>\n",
       "      <td>0</td>\n",
       "      <td>0</td>\n",
       "      <td>37.6</td>\n",
       "      <td>0.191</td>\n",
       "      <td>30</td>\n",
       "      <td>0</td>\n",
       "    </tr>\n",
       "    <tr>\n",
       "      <th>11</th>\n",
       "      <td>10</td>\n",
       "      <td>168</td>\n",
       "      <td>74</td>\n",
       "      <td>0</td>\n",
       "      <td>0</td>\n",
       "      <td>38.0</td>\n",
       "      <td>0.537</td>\n",
       "      <td>34</td>\n",
       "      <td>1</td>\n",
       "    </tr>\n",
       "    <tr>\n",
       "      <th>12</th>\n",
       "      <td>10</td>\n",
       "      <td>139</td>\n",
       "      <td>80</td>\n",
       "      <td>0</td>\n",
       "      <td>0</td>\n",
       "      <td>27.1</td>\n",
       "      <td>1.441</td>\n",
       "      <td>57</td>\n",
       "      <td>0</td>\n",
       "    </tr>\n",
       "    <tr>\n",
       "      <th>13</th>\n",
       "      <td>1</td>\n",
       "      <td>189</td>\n",
       "      <td>60</td>\n",
       "      <td>23</td>\n",
       "      <td>846</td>\n",
       "      <td>30.1</td>\n",
       "      <td>0.398</td>\n",
       "      <td>59</td>\n",
       "      <td>1</td>\n",
       "    </tr>\n",
       "    <tr>\n",
       "      <th>14</th>\n",
       "      <td>5</td>\n",
       "      <td>166</td>\n",
       "      <td>72</td>\n",
       "      <td>19</td>\n",
       "      <td>175</td>\n",
       "      <td>25.8</td>\n",
       "      <td>0.587</td>\n",
       "      <td>51</td>\n",
       "      <td>1</td>\n",
       "    </tr>\n",
       "  </tbody>\n",
       "</table>\n",
       "</div>"
      ],
      "text/plain": [
       "    Pregnancies  Glucose  BloodPressure  SkinThickness  Insulin   BMI  \\\n",
       "0             6      148             72             35        0  33.6   \n",
       "1             1       85             66             29        0  26.6   \n",
       "2             8      183             64              0        0  23.3   \n",
       "3             1       89             66             23       94  28.1   \n",
       "4             0      137             40             35      168  43.1   \n",
       "5             5      116             74              0        0  25.6   \n",
       "6             3       78             50             32       88  31.0   \n",
       "7            10      115              0              0        0  35.3   \n",
       "8             2      197             70             45      543  30.5   \n",
       "9             8      125             96              0        0   0.0   \n",
       "10            4      110             92              0        0  37.6   \n",
       "11           10      168             74              0        0  38.0   \n",
       "12           10      139             80              0        0  27.1   \n",
       "13            1      189             60             23      846  30.1   \n",
       "14            5      166             72             19      175  25.8   \n",
       "\n",
       "    DiabetesPedigreeFunction  Age  Outcome  \n",
       "0                      0.627   50        1  \n",
       "1                      0.351   31        0  \n",
       "2                      0.672   32        1  \n",
       "3                      0.167   21        0  \n",
       "4                      2.288   33        1  \n",
       "5                      0.201   30        0  \n",
       "6                      0.248   26        1  \n",
       "7                      0.134   29        0  \n",
       "8                      0.158   53        1  \n",
       "9                      0.232   54        1  \n",
       "10                     0.191   30        0  \n",
       "11                     0.537   34        1  \n",
       "12                     1.441   57        0  \n",
       "13                     0.398   59        1  \n",
       "14                     0.587   51        1  "
      ]
     },
     "metadata": {},
     "output_type": "display_data"
    },
    {
     "name": "stdout",
     "output_type": "stream",
     "text": [
      "<class 'pandas.core.frame.DataFrame'>\n",
      "RangeIndex: 768 entries, 0 to 767\n",
      "Data columns (total 9 columns):\n",
      " #   Column                    Non-Null Count  Dtype  \n",
      "---  ------                    --------------  -----  \n",
      " 0   Pregnancies               768 non-null    int64  \n",
      " 1   Glucose                   768 non-null    int64  \n",
      " 2   BloodPressure             768 non-null    int64  \n",
      " 3   SkinThickness             768 non-null    int64  \n",
      " 4   Insulin                   768 non-null    int64  \n",
      " 5   BMI                       768 non-null    float64\n",
      " 6   DiabetesPedigreeFunction  768 non-null    float64\n",
      " 7   Age                       768 non-null    int64  \n",
      " 8   Outcome                   768 non-null    int64  \n",
      "dtypes: float64(2), int64(7)\n",
      "memory usage: 54.1 KB\n"
     ]
    },
    {
     "data": {
      "text/plain": [
       "None"
      ]
     },
     "metadata": {},
     "output_type": "display_data"
    },
    {
     "data": {
      "text/html": [
       "<div>\n",
       "<style scoped>\n",
       "    .dataframe tbody tr th:only-of-type {\n",
       "        vertical-align: middle;\n",
       "    }\n",
       "\n",
       "    .dataframe tbody tr th {\n",
       "        vertical-align: top;\n",
       "    }\n",
       "\n",
       "    .dataframe thead th {\n",
       "        text-align: right;\n",
       "    }\n",
       "</style>\n",
       "<table border=\"1\" class=\"dataframe\">\n",
       "  <thead>\n",
       "    <tr style=\"text-align: right;\">\n",
       "      <th></th>\n",
       "      <th>Pregnancies</th>\n",
       "      <th>Glucose</th>\n",
       "      <th>BloodPressure</th>\n",
       "      <th>SkinThickness</th>\n",
       "      <th>Insulin</th>\n",
       "      <th>BMI</th>\n",
       "      <th>DiabetesPedigreeFunction</th>\n",
       "      <th>Age</th>\n",
       "      <th>Outcome</th>\n",
       "    </tr>\n",
       "  </thead>\n",
       "  <tbody>\n",
       "    <tr>\n",
       "      <th>count</th>\n",
       "      <td>768.000000</td>\n",
       "      <td>768.000000</td>\n",
       "      <td>768.000000</td>\n",
       "      <td>768.000000</td>\n",
       "      <td>768.000000</td>\n",
       "      <td>768.000000</td>\n",
       "      <td>768.000000</td>\n",
       "      <td>768.000000</td>\n",
       "      <td>768.000000</td>\n",
       "    </tr>\n",
       "    <tr>\n",
       "      <th>mean</th>\n",
       "      <td>3.845052</td>\n",
       "      <td>120.894531</td>\n",
       "      <td>69.105469</td>\n",
       "      <td>20.536458</td>\n",
       "      <td>79.799479</td>\n",
       "      <td>31.992578</td>\n",
       "      <td>0.471876</td>\n",
       "      <td>33.240885</td>\n",
       "      <td>0.348958</td>\n",
       "    </tr>\n",
       "    <tr>\n",
       "      <th>std</th>\n",
       "      <td>3.369578</td>\n",
       "      <td>31.972618</td>\n",
       "      <td>19.355807</td>\n",
       "      <td>15.952218</td>\n",
       "      <td>115.244002</td>\n",
       "      <td>7.884160</td>\n",
       "      <td>0.331329</td>\n",
       "      <td>11.760232</td>\n",
       "      <td>0.476951</td>\n",
       "    </tr>\n",
       "    <tr>\n",
       "      <th>min</th>\n",
       "      <td>0.000000</td>\n",
       "      <td>0.000000</td>\n",
       "      <td>0.000000</td>\n",
       "      <td>0.000000</td>\n",
       "      <td>0.000000</td>\n",
       "      <td>0.000000</td>\n",
       "      <td>0.078000</td>\n",
       "      <td>21.000000</td>\n",
       "      <td>0.000000</td>\n",
       "    </tr>\n",
       "    <tr>\n",
       "      <th>25%</th>\n",
       "      <td>1.000000</td>\n",
       "      <td>99.000000</td>\n",
       "      <td>62.000000</td>\n",
       "      <td>0.000000</td>\n",
       "      <td>0.000000</td>\n",
       "      <td>27.300000</td>\n",
       "      <td>0.243750</td>\n",
       "      <td>24.000000</td>\n",
       "      <td>0.000000</td>\n",
       "    </tr>\n",
       "    <tr>\n",
       "      <th>50%</th>\n",
       "      <td>3.000000</td>\n",
       "      <td>117.000000</td>\n",
       "      <td>72.000000</td>\n",
       "      <td>23.000000</td>\n",
       "      <td>30.500000</td>\n",
       "      <td>32.000000</td>\n",
       "      <td>0.372500</td>\n",
       "      <td>29.000000</td>\n",
       "      <td>0.000000</td>\n",
       "    </tr>\n",
       "    <tr>\n",
       "      <th>75%</th>\n",
       "      <td>6.000000</td>\n",
       "      <td>140.250000</td>\n",
       "      <td>80.000000</td>\n",
       "      <td>32.000000</td>\n",
       "      <td>127.250000</td>\n",
       "      <td>36.600000</td>\n",
       "      <td>0.626250</td>\n",
       "      <td>41.000000</td>\n",
       "      <td>1.000000</td>\n",
       "    </tr>\n",
       "    <tr>\n",
       "      <th>max</th>\n",
       "      <td>17.000000</td>\n",
       "      <td>199.000000</td>\n",
       "      <td>122.000000</td>\n",
       "      <td>99.000000</td>\n",
       "      <td>846.000000</td>\n",
       "      <td>67.100000</td>\n",
       "      <td>2.420000</td>\n",
       "      <td>81.000000</td>\n",
       "      <td>1.000000</td>\n",
       "    </tr>\n",
       "  </tbody>\n",
       "</table>\n",
       "</div>"
      ],
      "text/plain": [
       "       Pregnancies     Glucose  BloodPressure  SkinThickness     Insulin  \\\n",
       "count   768.000000  768.000000     768.000000     768.000000  768.000000   \n",
       "mean      3.845052  120.894531      69.105469      20.536458   79.799479   \n",
       "std       3.369578   31.972618      19.355807      15.952218  115.244002   \n",
       "min       0.000000    0.000000       0.000000       0.000000    0.000000   \n",
       "25%       1.000000   99.000000      62.000000       0.000000    0.000000   \n",
       "50%       3.000000  117.000000      72.000000      23.000000   30.500000   \n",
       "75%       6.000000  140.250000      80.000000      32.000000  127.250000   \n",
       "max      17.000000  199.000000     122.000000      99.000000  846.000000   \n",
       "\n",
       "              BMI  DiabetesPedigreeFunction         Age     Outcome  \n",
       "count  768.000000                768.000000  768.000000  768.000000  \n",
       "mean    31.992578                  0.471876   33.240885    0.348958  \n",
       "std      7.884160                  0.331329   11.760232    0.476951  \n",
       "min      0.000000                  0.078000   21.000000    0.000000  \n",
       "25%     27.300000                  0.243750   24.000000    0.000000  \n",
       "50%     32.000000                  0.372500   29.000000    0.000000  \n",
       "75%     36.600000                  0.626250   41.000000    1.000000  \n",
       "max     67.100000                  2.420000   81.000000    1.000000  "
      ]
     },
     "metadata": {},
     "output_type": "display_data"
    }
   ],
   "source": [
    "display(df.head(15))\n",
    "display(df.info())\n",
    "display(df.describe())"
   ]
  },
  {
   "cell_type": "markdown",
   "metadata": {},
   "source": [
    "We see that, while there are no apparent missing values in the data frame, some entries take on the value zero where it is not physically meaningful.  Therefore it seems that zeroes indicate missing values in this data set.\n",
    "\n",
    "Let's replace zero values with missing values to get a better idea of how much data is missing.  We also provide a visualization of the missing values in the dataframe."
   ]
  },
  {
   "cell_type": "code",
   "execution_count": 62,
   "metadata": {},
   "outputs": [
    {
     "data": {
      "text/plain": [
       "<AxesSubplot:>"
      ]
     },
     "execution_count": 62,
     "metadata": {},
     "output_type": "execute_result"
    },
    {
     "data": {
      "image/png": "[encoded data removed]",
      "text/plain": [
       "<Figure size 1800x720 with 2 Axes>"
      ]
     },
     "metadata": {},
     "output_type": "display_data"
    }
   ],
   "source": [
    "impute_list = [\"Glucose\", \"BloodPressure\", \"SkinThickness\", \"BMI\",\n",
    "               \"DiabetesPedigreeFunction\", \"Age\", \"Insulin\", \"Pregnancies\"]\n",
    "\n",
    "df[impute_list] = df[impute_list].replace(0, np.NaN)\n",
    "\n",
    "msno.matrix(df)"
   ]
  },
  {
   "cell_type": "markdown",
   "metadata": {},
   "source": [
    "We come to our first difficulty.  In most columns a zero is not physically relevant.  However, this is not true of the Pregnancies column, since it is of course possible to have never had a pregnancy.  None of the dataset documentation addresses how to interpret a zero in the Pregnancies column.  For now we will leave the missing values in the Pregnancies column.  But we must remember that artificially imputing those values naively might result in worse predictive performance."
   ]
  },
  {
   "cell_type": "markdown",
   "metadata": {},
   "source": [
    "We are now ready to begin building our machine learning model.  We choose to use the random forest classifier with 200 iterations.  Then we split the data randomly into training and testing sets, fit on the training data and score on the testing data 60 times.  This simulates a distribution for the accuracy score, which we then plot and record some summary statistics."
   ]
  },
  {
   "cell_type": "code",
   "execution_count": 63,
   "metadata": {},
   "outputs": [],
   "source": [
    "def rfc_predict_score(X, y, n_iter = 60):\n",
    "\n",
    "# Repeats a train-test split of observations X and outcomes y n_iter times.\n",
    "# Prodcues a histogram of the sampling distribution of mean accuracy, a confusion matrix,\n",
    "# as well as the significance and power of the prediction.\n",
    "# Returns the list of n_iter accuracy scores.\n",
    "\n",
    "    rfc = RandomForestClassifier(n_estimators = 200,\n",
    "                                 criterion = 'entropy')\n",
    "    \n",
    "    list_for_hist = []\n",
    "    \n",
    "    print(\"[\" + (\"-\" * n_iter) + \"]\")\n",
    "    print(\" \", end = \"\")\n",
    "    \n",
    "    for i in range(n_iter):\n",
    "        \n",
    "        X_train, X_test, y_train, y_test = train_test_split(X, y,\n",
    "                                                            test_size = 0.2)\n",
    "        rfc.fit(X_train, y_train)\n",
    "        score = rfc.score(X_test, y_test)\n",
    "        print(\"*\", end = \"\")\n",
    "        list_for_hist.append(score)\n",
    "        \n",
    "    sns.histplot(list_for_hist)\n",
    "    plt.show()\n",
    "    \n",
    "    y_pred = rfc.predict(X_test)\n",
    "        \n",
    "    print(\"Mean Accuracy :\", np.mean(list_for_hist))\n",
    "    print(\"Standard Error : \", np.std(list_for_hist))\n",
    "    cm = confusion_matrix(y_test, y_pred)\n",
    "    print(\"Significance : \", cm[1][0]/(cm[1][0] + cm[0][0]))\n",
    "    print(\"Power : \", cm[1][1]/(cm[1][1] + cm[0][1]))\n",
    "    \n",
    "    return list_for_hist"
   ]
  },
  {
   "cell_type": "markdown",
   "metadata": {},
   "source": [
    "First we will make the ideal hypothesis that the zeroes in the Pregnancies feature were actually intended to be zero values.  We therefore impute the missing values by replacing the missing zeroes in the Pregnancies feature, and imputing the others with the mean, binning by the Outcome."
   ]
  },
  {
   "cell_type": "code",
   "execution_count": 64,
   "metadata": {},
   "outputs": [
    {
     "name": "stdout",
     "output_type": "stream",
     "text": [
      "[------------------------------------------------------------]\n",
      " ************************************************************"
     ]
    },
    {
     "data": {
      "image/png": "[encoded data removed]",
      "text/plain": [
       "<Figure size 432x288 with 1 Axes>"
      ]
     },
     "metadata": {},
     "output_type": "display_data"
    },
    {
     "name": "stdout",
     "output_type": "stream",
     "text": [
      "Mean Accuracy : 0.7633116883116883\n",
      "Standard Error :  0.028586797322645654\n",
      "Significance :  0.18584070796460178\n",
      "Power :  0.7317073170731707\n"
     ]
    }
   ],
   "source": [
    "impute_features = [\"Glucose\", \"BloodPressure\", \"SkinThickness\", \"BMI\",\n",
    "               \"DiabetesPedigreeFunction\", \"Age\", \"Insulin\"]\n",
    "\n",
    "df_zero = df.copy()\n",
    "\n",
    "for feature in impute_features:\n",
    "    df_zero.loc[df['Outcome'] == 0, [feature]] = df_zero.loc[df['Outcome'] == 0, [feature]].fillna(df_zero.loc[df['Outcome'] == 0, :][feature].mean())\n",
    "    df_zero.loc[df['Outcome'] == 1, [feature]] = df_zero.loc[df['Outcome'] == 1, [feature]].fillna(df_zero.loc[df['Outcome'] == 0, :][feature].mean())\n",
    "\n",
    "df_zero.loc[:, ['Pregnancies']] = df_zero.loc[:, ['Pregnancies']].fillna(0)\n",
    "\n",
    "X_zero = df_zero.drop(['Outcome'], axis = 'columns')\n",
    "y_zero = df_zero['Outcome']\n",
    "\n",
    "list_zero = rfc_predict_score(X_zero, y_zero)"
   ]
  },
  {
   "cell_type": "markdown",
   "metadata": {},
   "source": [
    "We observe an accuracy of around 75-76 percent, with a standard error of 2-3 percent."
   ]
  },
  {
   "cell_type": "markdown",
   "metadata": {},
   "source": [
    "Next, we suppose that the zeroes in the Pregnancies feature are intended as missing values.  Accordingly we impute by imputing the median on every feature, binning by the Outcome."
   ]
  },
  {
   "cell_type": "code",
   "execution_count": 65,
   "metadata": {},
   "outputs": [
    {
     "name": "stdout",
     "output_type": "stream",
     "text": [
      "[------------------------------------------------------------]\n",
      " ************************************************************"
     ]
    },
    {
     "data": {
      "image/png": "[encoded data removed]",
      "text/plain": [
       "<Figure size 432x288 with 1 Axes>"
      ]
     },
     "metadata": {},
     "output_type": "display_data"
    },
    {
     "name": "stdout",
     "output_type": "stream",
     "text": [
      "Mean Accuracy : 0.8849567099567098\n",
      "Standard Error :  0.02252824625387263\n",
      "Significance :  0.10185185185185185\n",
      "Power :  0.9130434782608695\n"
     ]
    }
   ],
   "source": [
    "impute_features = [\"Glucose\", \"BloodPressure\", \"SkinThickness\", \"BMI\",\n",
    "               \"DiabetesPedigreeFunction\", \"Age\", \"Insulin\", \"Pregnancies\"]\n",
    "\n",
    "df_mean = df.copy()\n",
    "\n",
    "for feature in impute_features:\n",
    "    df_mean.loc[df['Outcome'] == 0, [feature]] = df_mean.loc[df['Outcome'] == 0, [feature]].fillna(df_mean.loc[df['Outcome'] == 0, :][feature].median())\n",
    "    df_mean.loc[df['Outcome'] == 1, [feature]] = df_mean.loc[df['Outcome'] == 1, [feature]].fillna(df_mean.loc[df['Outcome'] == 1, :][feature].median())\n",
    "    \n",
    "X_mean = df_mean.drop(['Outcome'], axis = 'columns')\n",
    "y_mean = df_mean['Outcome']\n",
    "\n",
    "list_mean = rfc_predict_score(X_mean, y_mean)"
   ]
  },
  {
   "cell_type": "markdown",
   "metadata": {},
   "source": [
    "We find a remarkable improvement in accuracy, now between 88-89 percent accuracy with a standard error of 2-3 percent.  This result suggests that the zeroes in the Pregnancies column are indeed intended to be missing values.  However, this is strange, since it would imply that the more than 700 participants in the study comprising our dataset have all been pregnant at least one time."
   ]
  },
  {
   "cell_type": "code",
   "execution_count": 66,
   "metadata": {},
   "outputs": [
    {
     "data": {
      "image/png": "[encoded data removed]",
      "text/plain": [
       "<Figure size 432x288 with 2 Axes>"
      ]
     },
     "metadata": {},
     "output_type": "display_data"
    }
   ],
   "source": [
    "sns.heatmap(df.corr())\n",
    "plt.show()"
   ]
  },
  {
   "cell_type": "markdown",
   "metadata": {},
   "source": [
    "We therefore suggest another hypothesis: naively treating our predictor as a linear predictor, we see that all of the features correlate positively with Outcome.  Hence, imputing a large number of entries to equal zero irrespective of outcome introduces a large error in the fit.  This motivates us to impute small values in observations with Outcome 0 and large values in observations with Outcome 1.  Since 'small' and 'large' in this context must be fixed with refence to the dataset, we impute the minimum on missing values in observations of Outcome 0 and maximum values in missing values in observations with Outcome 1."
   ]
  },
  {
   "cell_type": "code",
   "execution_count": 67,
   "metadata": {},
   "outputs": [
    {
     "name": "stdout",
     "output_type": "stream",
     "text": [
      "[------------------------------------------------------------]\n",
      " ************************************************************"
     ]
    },
    {
     "data": {
      "image/png": "[encoded data removed]",
      "text/plain": [
       "<Figure size 432x288 with 1 Axes>"
      ]
     },
     "metadata": {},
     "output_type": "display_data"
    },
    {
     "name": "stdout",
     "output_type": "stream",
     "text": [
      "Mean Accuracy : 0.9056277056277057\n",
      "Standard Error :  0.01744271828390111\n",
      "Significance :  0.0970873786407767\n",
      "Power :  0.9215686274509803\n"
     ]
    }
   ],
   "source": [
    "impute_features = [\"Glucose\", \"BloodPressure\", \"SkinThickness\", \"BMI\",\n",
    "               \"DiabetesPedigreeFunction\", \"Age\", \"Insulin\", \"Pregnancies\"]\n",
    "\n",
    "df_minmax = df.copy()\n",
    "\n",
    "for feature in impute_features:\n",
    "    df_minmax.loc[df['Outcome'] == 0, [feature]] = df_minmax.loc[df['Outcome'] == 0, [feature]].fillna(df_minmax.loc[df['Outcome'] == 0, :][feature].min())\n",
    "    df_minmax.loc[df['Outcome'] == 1, [feature]] = df_minmax.loc[df['Outcome'] == 1, [feature]].fillna(df_minmax.loc[df['Outcome'] == 1, :][feature].max())\n",
    "    \n",
    "X_minmax = df_minmax.drop(['Outcome'], axis = 'columns')\n",
    "y_minmax = df_minmax['Outcome']\n",
    "\n",
    "list_minmax = rfc_predict_score(X_minmax, y_minmax)"
   ]
  },
  {
   "cell_type": "markdown",
   "metadata": {},
   "source": [
    "We see what appears to be a modest improvement over imputing the median binned by Outcome: we now find an accuracy of 90-91 percent with a standard deviation of 2-3 percent.  To demonstrate that this improvement is significant, we test stochastic inequality with the Mann-Whitney test, so as not to assume anything about the underlying sampling distributions."
   ]
  },
  {
   "cell_type": "code",
   "execution_count": 68,
   "metadata": {},
   "outputs": [
    {
     "name": "stdout",
     "output_type": "stream",
     "text": [
      "P-Value comparing mean and min-max imputation :  9.324046718207212e-08\n"
     ]
    }
   ],
   "source": [
    "u_score, p_value = mannwhitneyu(list_mean, list_minmax)\n",
    "\n",
    "print(\"P-Value comparing mean and min-max imputation : \", p_value)"
   ]
  },
  {
   "cell_type": "markdown",
   "metadata": {},
   "source": [
    "**Conclusion**\n",
    "\n",
    "We examined a dataset intended to allow for prediction of the incidence of diabetes based on auxiliary features.  The data set given contained a large number of missing values, indicated by zeroes in the data set.  Most zero entries were not physically meaningful, and so there was no confusion between a reported zero value and a missing value, except in the case of the Pregnancies feature.\n",
    "\n",
    "Therefore we investigated whether a ML model would perform better if the zeroes in the Pregnancies feature were left as zeroes or imputed.  We found that there was a significant increase in performance if the zeroes in the Pregnancies column were imputed with the median, from near 75-76 percent accurancy to near 88-89 percent.\n",
    "\n",
    "Since this result was counterintuitive, we suspected a purely model-based explanation for the phenomenon.  Roughly, since the features are all positively correlated with the target, setting missing values to zero for observations with Outcome 1 greatly increased the fitting error as opposed to simply imputing by averaging.\n",
    "\n",
    "To determine whether this explanation is plausble, we sought to take advantage of this hypothetical effect by imputing by binning, but set the imputation value to the maximum for observations with Outcome 1, and the minimum for observations with Outcome 0.  Indeed, this choice significantly increased the accuracy of the predictions by another 2 percent, to 90-91 percent accuracy."
   ]
  }
 ],
 "metadata": {
  "kernelspec": {
   "display_name": "Python 3",
   "language": "python",
   "name": "python3"
  },
  "language_info": {
   "codemirror_mode": {
    "name": "ipython",
    "version": 3
   },
   "file_extension": ".py",
   "mimetype": "text/x-python",
   "name": "python",
   "nbconvert_exporter": "python",
   "pygments_lexer": "ipython3",
   "version": "3.8.5"
  }
 },
 "nbformat": 4,
 "nbformat_minor": 4
}
